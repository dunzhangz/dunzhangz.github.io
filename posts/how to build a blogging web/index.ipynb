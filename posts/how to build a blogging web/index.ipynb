{
 "cells": [
  {
   "cell_type": "raw",
   "id": "9d5cb83f",
   "metadata": {
    "vscode": {
     "languageId": "raw"
    }
   },
   "source": [
    "---\n",
    "title: \"How to build a simple blogging website like this one!\"\n",
    "author: \"Dun Zhang\"\n",
    "date: \"2025-06-19\"\n",
    "categories: [Quick Start]\n",
    "jupyter: python3\n",
    "---"
   ]
  },
  {
   "cell_type": "markdown",
   "id": "76b783a4",
   "metadata": {},
   "source": [
    "## Why building a blogging website?\n",
    "- Knowledge understanding is further enhanced by writing.\n",
    "- Sharing knowledge with others is a great way to help them.\n",
    "- Absolute control of my website is guaranteed.\n",
    "- Websites are accessible as long as one has a browser and internet connection. "
   ]
  }
 ],
 "metadata": {
  "kernelspec": {
   "display_name": "fastzd",
   "language": "python",
   "name": "python3"
  },
  "language_info": {
   "codemirror_mode": {
    "name": "ipython",
    "version": 3
   },
   "file_extension": ".py",
   "mimetype": "text/x-python",
   "name": "python",
   "nbconvert_exporter": "python",
   "pygments_lexer": "ipython3",
   "version": "3.12.2"
  }
 },
 "nbformat": 4,
 "nbformat_minor": 5
}

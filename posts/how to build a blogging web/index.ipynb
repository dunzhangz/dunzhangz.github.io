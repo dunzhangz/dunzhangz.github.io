{
 "cells": [
  {
   "cell_type": "raw",
   "id": "9d5cb83f",
   "metadata": {
    "vscode": {
     "languageId": "raw"
    }
   },
   "source": [
    "---\n",
    "title: \"How to build a simple static blogging website like this!\"\n",
    "author: \"Dun Zhang\"\n",
    "date: \"2025-06-19\"\n",
    "categories: [Quick Start]\n",
    "jupyter: python3\n",
    "---"
   ]
  },
  {
   "cell_type": "markdown",
   "id": "76b783a4",
   "metadata": {},
   "source": [
    "## Why building a blogging website?\n",
    "- Knowledge understanding is further enhanced by writing.\n",
    "- Sharing knowledge with others is a great way to help them.\n",
    "- Absolute control of my website is guaranteed.\n",
    "- Websites are accessible as long as one has a browser and internet connection. \n",
    "\n",
    "## Overview of how this website is built\n",
    "- All the content of this website is written with Python and Markdown language in Jupyter Notebooks using .ipynb file.\n",
    "- Notebook files are converted to HTML using Quarto.\n",
    "- HTML files are hosted in Github Pages (a static web server).\n",
    "\n",
    "## Tips\n",
    "- Quarto is recommended by fast.ai. Everyhing is just so easy with Quarto.\n",
    "- Go to the official website of [Quarto](https://quarto.org/) to learn how to use it. Follow \"Quickstart\" section, \"Building a Blogging Website\" section, and \"Publishing a Website on Github Pages\" section. \n",
    "- Note that Quarto is recommended for users who are familiar with Python and Markdown language written in Jupyter Notebooks.\n",
    "- Everything is recommended to be done in a new enviroment other than the base (boot) environment.\n",
    "- Although some dynamic logic functions are supported in Quarto, I do not recommend to use since many minor problems exist which may frustrate you. Just regard this website as a static website.\n",
    "\n",
    "I will not provide detailed instructions on how to use Quarto here, as it is well documented in the official website. Instead, I will provide a few commonly used syntaxes in daily posting after I have built this blogging website.\n",
    "\n",
    "Every new post should be named `index.ipynb` stored in a new directory under the `posts` directory. At the top of each post, there is a YAML header that contains metadata about the post, such as title, date, and tags, that is in the following format:"
   ]
  },
  {
   "cell_type": "code",
   "execution_count": null,
   "id": "43f4c249",
   "metadata": {},
   "outputs": [],
   "source": [
    "---\n",
    "title: \"How to build a simple static blogging website like this!\"\n",
    "author: \"Dun Zhang\"\n",
    "date: \"2025-06-19\"\n",
    "categories: [Quick Start]\n",
    "jupyter: python3\n",
    "---"
   ]
  },
  {
   "cell_type": "markdown",
   "id": "ac08e2f7",
   "metadata": {},
   "source": [
    "Some commonly used commands are"
   ]
  },
  {
   "cell_type": "code",
   "execution_count": null,
   "id": "e68959a9",
   "metadata": {},
   "outputs": [],
   "source": [
    "quarto render\n",
    "quarto render --execute\n",
    "quarto preview"
   ]
  }
 ],
 "metadata": {
  "kernelspec": {
   "display_name": "fastzd",
   "language": "python",
   "name": "python3"
  },
  "language_info": {
   "codemirror_mode": {
    "name": "ipython",
    "version": 3
   },
   "file_extension": ".py",
   "mimetype": "text/x-python",
   "name": "python",
   "nbconvert_exporter": "python",
   "pygments_lexer": "ipython3",
   "version": "3.12.2"
  }
 },
 "nbformat": 4,
 "nbformat_minor": 5
}

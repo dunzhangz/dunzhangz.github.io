{
 "cells": [
  {
   "cell_type": "raw",
   "id": "9d5cb83f",
   "metadata": {
    "vscode": {
     "languageId": "raw"
    }
   },
   "source": [
    "---\n",
    "title: \"How to build a simple blogging website like this one!\"\n",
    "author: \"Dun Zhang\"\n",
    "date: \"2025-06-19\"\n",
    "categories: [Quick Start]\n",
    "jupyter: python3\n",
    "---"
   ]
  },
  {
   "cell_type": "markdown",
   "id": "76b783a4",
   "metadata": {},
   "source": [
    "## Why building a blogging website?\n",
    "- Knowledge understanding is further enhanced by writing.\n",
    "- Sharing knowledge with others is a great way to help them.\n",
    "- Absolute control of my website is guaranteed.\n",
    "- Websites are accessible as long as one has a browser and internet connection. "
   ]
  }
 ],
 "metadata": {
  "language_info": {
   "name": "python"
  }
 },
 "nbformat": 4,
 "nbformat_minor": 5
}

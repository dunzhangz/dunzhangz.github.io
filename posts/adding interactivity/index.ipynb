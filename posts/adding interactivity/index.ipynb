{
 "cells": [
  {
   "cell_type": "raw",
   "id": "9d5cb83f",
   "metadata": {
    "vscode": {
     "languageId": "raw"
    }
   },
   "source": [
    "---\n",
    "title: \"Adding interactive widgets in Web\"\n",
    "author: \"Dun Zhang\"\n",
    "date: \"2025-06-19\"\n",
    "categories: [Quick Start]\n",
    "jupyter: python3\n",
    "---"
   ]
  },
  {
   "cell_type": "code",
   "execution_count": null,
   "id": "a4e88d68",
   "metadata": {},
   "outputs": [
    {
     "data": {
      "application/vnd.jupyter.widget-view+json": {
       "model_id": "a02c59ff9c7242cd8e2856ed6e7ecb67",
       "version_major": 2,
       "version_minor": 0
      },
      "text/plain": [
       "Map(center=[52.204793, 360.121558], controls=(ZoomControl(options=['position', 'zoom_in_text', 'zoom_in_title'…"
      ]
     },
     "execution_count": 4,
     "metadata": {},
     "output_type": "execute_result"
    }
   ],
   "source": [
    "from ipyleaflet import Map, Marker, basemaps, basemap_to_tiles\n",
    "m = Map(\n",
    "  basemap=basemap_to_tiles(\n",
    "    basemaps.NASAGIBS.ModisTerraTrueColorCR, \"2017-04-08\"\n",
    "  ),\n",
    "  center=(52.204793, 360.121558),\n",
    "  zoom=4\n",
    ")\n",
    "m.add_layer(Marker(location=(52.204793, 360.121558)))\n",
    "m"
   ]
  }
 ],
 "metadata": {
  "kernelspec": {
   "display_name": "fastzd",
   "language": "python",
   "name": "python3"
  },
  "language_info": {
   "codemirror_mode": {
    "name": "ipython",
    "version": 3
   },
   "file_extension": ".py",
   "mimetype": "text/x-python",
   "name": "python",
   "nbconvert_exporter": "python",
   "pygments_lexer": "ipython3",
   "version": "3.12.11"
  }
 },
 "nbformat": 4,
 "nbformat_minor": 5
}
